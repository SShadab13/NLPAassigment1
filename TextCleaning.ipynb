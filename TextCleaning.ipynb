{
 "cells": [
  {
   "cell_type": "code",
   "execution_count": 1,
   "metadata": {},
   "outputs": [],
   "source": [
    "import pandas as pd\n",
    "import re"
   ]
  },
  {
   "cell_type": "code",
   "execution_count": 3,
   "metadata": {},
   "outputs": [],
   "source": [
    "import pandas as pd\n",
    "file_path = \"data/alldata_1_for_kaggle.csv\"\n",
    "data = pd.read_csv(file_path, encoding='ISO-8859-1')"
   ]
  },
  {
   "cell_type": "markdown",
   "metadata": {},
   "source": [
    "## Clearning the Text"
   ]
  },
  {
   "cell_type": "code",
   "execution_count": 4,
   "metadata": {},
   "outputs": [
    {
     "data": {
      "text/html": [
       "<div>\n",
       "<style scoped>\n",
       "    .dataframe tbody tr th:only-of-type {\n",
       "        vertical-align: middle;\n",
       "    }\n",
       "\n",
       "    .dataframe tbody tr th {\n",
       "        vertical-align: top;\n",
       "    }\n",
       "\n",
       "    .dataframe thead th {\n",
       "        text-align: right;\n",
       "    }\n",
       "</style>\n",
       "<table border=\"1\" class=\"dataframe\">\n",
       "  <thead>\n",
       "    <tr style=\"text-align: right;\">\n",
       "      <th></th>\n",
       "      <th>Serial Number</th>\n",
       "      <th>Class Labels</th>\n",
       "      <th>Research Paper Text</th>\n",
       "    </tr>\n",
       "  </thead>\n",
       "  <tbody>\n",
       "    <tr>\n",
       "      <th>0</th>\n",
       "      <td>0</td>\n",
       "      <td>Thyroid_Cancer</td>\n",
       "      <td>Thyroid surgery in  children in a single insti...</td>\n",
       "    </tr>\n",
       "    <tr>\n",
       "      <th>1</th>\n",
       "      <td>1</td>\n",
       "      <td>Thyroid_Cancer</td>\n",
       "      <td>\" The adopted strategy was the same as that us...</td>\n",
       "    </tr>\n",
       "    <tr>\n",
       "      <th>2</th>\n",
       "      <td>2</td>\n",
       "      <td>Thyroid_Cancer</td>\n",
       "      <td>coronary arterybypass grafting thrombosis ï¬b...</td>\n",
       "    </tr>\n",
       "    <tr>\n",
       "      <th>3</th>\n",
       "      <td>3</td>\n",
       "      <td>Thyroid_Cancer</td>\n",
       "      <td>Solitary plasmacytoma SP of the skull is an u...</td>\n",
       "    </tr>\n",
       "    <tr>\n",
       "      <th>4</th>\n",
       "      <td>4</td>\n",
       "      <td>Thyroid_Cancer</td>\n",
       "      <td>This study aimed to investigate serum matrix ...</td>\n",
       "    </tr>\n",
       "  </tbody>\n",
       "</table>\n",
       "</div>"
      ],
      "text/plain": [
       "   Serial Number    Class Labels  \\\n",
       "0              0  Thyroid_Cancer   \n",
       "1              1  Thyroid_Cancer   \n",
       "2              2  Thyroid_Cancer   \n",
       "3              3  Thyroid_Cancer   \n",
       "4              4  Thyroid_Cancer   \n",
       "\n",
       "                                 Research Paper Text  \n",
       "0  Thyroid surgery in  children in a single insti...  \n",
       "1  \" The adopted strategy was the same as that us...  \n",
       "2  coronary arterybypass grafting thrombosis ï¬b...  \n",
       "3   Solitary plasmacytoma SP of the skull is an u...  \n",
       "4   This study aimed to investigate serum matrix ...  "
      ]
     },
     "execution_count": 4,
     "metadata": {},
     "output_type": "execute_result"
    }
   ],
   "source": [
    "data.head()"
   ]
  },
  {
   "cell_type": "code",
   "execution_count": 7,
   "metadata": {},
   "outputs": [
    {
     "data": {
      "text/plain": [
       "'thyroid surgery in children in a single institution from osama ibrahim almosallama ali aseerib ahmed alhumaida ali alzahranic saif alsobhib saud alshanafeybfrom the adepartment of surgery college of medicine qassim university buraidah al qassim saudi arabia bdepartment of surgery king faisal specialist hospital and research center riyadh saudi arabia cdepartment of medicine king faisal specialist hospital and research center riyadh saudi arabia correspondence dr osama ibrahim almosallam departme'"
      ]
     },
     "execution_count": 7,
     "metadata": {},
     "output_type": "execute_result"
    }
   ],
   "source": [
    "# Extract the \"Research Paper Text\" column\n",
    "text_data = data['Research Paper Text']\n",
    "\n",
    "def expand_contractions(text):\n",
    "    # Define a mapping for contractions\n",
    "    contractions = {\n",
    "        \"'s\": \" is\",\n",
    "        \"'ll\": \" will\",\n",
    "        \"'ve\": \" have\",\n",
    "        \"'d\": \" would\",\n",
    "        \"'re\": \" are\",\n",
    "        \"'m\": \" am\",\n",
    "        \"n't\": \" not\"\n",
    "    }\n",
    "\n",
    "    # Replace contractions using regex\n",
    "    for contraction, expanded in contractions.items():\n",
    "        text = re.sub(contraction, expanded, text)\n",
    "\n",
    "    return text\n",
    "\n",
    "def clean_text(text):\n",
    "    # Expand contractions\n",
    "    text = expand_contractions(text)\n",
    "    \n",
    "    # Remove special characters and numbers except hyphen\n",
    "    text = re.sub(r'[^a-zA-Z\\s\\-]', '', str(text))  # Keep alphabets, spaces, and hyphens\n",
    "    \n",
    "    # # Replace hyphens between words with spaces\n",
    "    # text = re.sub(r'\\b-\\b', ' ', text)\n",
    "    \n",
    "    # Remove standalone hyphens\n",
    "    text = re.sub(r'-', ' ', text)\n",
    "    \n",
    "    # Convert to lowercase\n",
    "    text = text.lower()\n",
    "    \n",
    "    # Remove single characters except 'a' and 'i'\n",
    "    text = re.sub(r'\\b[b-hj-zB-HJ-Z]\\b', '', text)  # Removes any single letters except 'a' and 'i'\n",
    "    \n",
    "    # Remove extra spaces\n",
    "    text = re.sub(r'\\s{2,}', ' ', text).strip()\n",
    "    \n",
    "    return text\n",
    "\n",
    "\n",
    "# Apply cleaning to all rows\n",
    "cleaned_text = text_data.apply(clean_text)\n",
    "\n",
    "# Combine all rows into a single text corpus\n",
    "text_corpus = ' '.join(cleaned_text)\n",
    "\n",
    "# Display the first 500 characters of the cleaned corpus\n",
    "text_corpus[:500]\n"
   ]
  },
  {
   "cell_type": "code",
   "execution_count": 10,
   "metadata": {},
   "outputs": [
    {
     "data": {
      "text/plain": [
       "'data/cleaned_corpus.txt'"
      ]
     },
     "execution_count": 10,
     "metadata": {},
     "output_type": "execute_result"
    }
   ],
   "source": [
    "# Save the cleaned corpus for later use\n",
    "file_path_cleaned = 'data/cleaned_corpus.txt'\n",
    "with open(file_path_cleaned, 'w') as file:\n",
    "    file.write(text_corpus)\n",
    "\n",
    "file_path_cleaned"
   ]
  },
  {
   "cell_type": "markdown",
   "metadata": {},
   "source": [
    "## Spellchecker code"
   ]
  },
  {
   "cell_type": "code",
   "execution_count": 11,
   "metadata": {},
   "outputs": [
    {
     "name": "stdout",
     "output_type": "stream",
     "text": [
      "Defaulting to user installation because normal site-packages is not writeableNote: you may need to restart the kernel to use updated packages.\n",
      "\n",
      "Requirement already satisfied: pyspellchecker in c:\\users\\shada\\appdata\\roaming\\python\\python39\\site-packages (0.8.1)\n"
     ]
    }
   ],
   "source": [
    "%pip install pyspellchecker"
   ]
  },
  {
   "cell_type": "code",
   "execution_count": 12,
   "metadata": {},
   "outputs": [],
   "source": [
    "from spellchecker import SpellChecker"
   ]
  },
  {
   "cell_type": "code",
   "execution_count": 13,
   "metadata": {},
   "outputs": [],
   "source": [
    "# Initialize PySpellChecker with the cleaned corpus\n",
    "corpus_words = re.findall(r'\\w+', text_corpus)\n",
    "spell = SpellChecker()\n",
    "spell.word_frequency.load_words(corpus_words)  # Train with preprocessed corpus\n",
    "\n",
    "\n",
    "\n"
   ]
  },
  {
   "cell_type": "code",
   "execution_count": 18,
   "metadata": {},
   "outputs": [
    {
     "data": {
      "text/plain": [
       "{'hapyness': 'happiness',\n",
       " 'langaug': 'language',\n",
       " 'speling': 'spelling',\n",
       " 'computr': 'computer',\n",
       " 'phisycs': 'physics'}"
      ]
     },
     "execution_count": 18,
     "metadata": {},
     "output_type": "execute_result"
    }
   ],
   "source": [
    "# Test cases\n",
    "test_words = [\"hapyness\", \"langaug\", \"speling\", \"computr\", \"phisycs\"]\n",
    "\n",
    "# Perform spell checking and get corrections\n",
    "corrections = {word: spell.correction(word) for word in test_words}\n",
    "\n",
    "# Return corrections\n",
    "corrections"
   ]
  },
  {
   "cell_type": "code",
   "execution_count": null,
   "metadata": {},
   "outputs": [],
   "source": []
  }
 ],
 "metadata": {
  "kernelspec": {
   "display_name": "base",
   "language": "python",
   "name": "python3"
  },
  "language_info": {
   "codemirror_mode": {
    "name": "ipython",
    "version": 3
   },
   "file_extension": ".py",
   "mimetype": "text/x-python",
   "name": "python",
   "nbconvert_exporter": "python",
   "pygments_lexer": "ipython3",
   "version": "3.9.18"
  }
 },
 "nbformat": 4,
 "nbformat_minor": 2
}
